{
 "cells": [
  {
   "cell_type": "markdown",
   "id": "43308c2f",
   "metadata": {},
   "source": [
    "# Calcul de valeurs propres de Maxwell dans un carré\n",
    "$\\mathrm{curl\\, curl}\\, u = \\lambda u$ dans le carré $(0,\\pi) \\times\\ (0,\\pi)$\n",
    "avec condition limite magnétique homogène $u\\times n =0$\n",
    "Cf Arnold FEEC chap 1\n"
   ]
  },
  {
   "cell_type": "code",
   "execution_count": 1,
   "id": "df818933",
   "metadata": {},
   "outputs": [],
   "source": [
    "import numpy as np\n",
    "import matplotlib.pyplot as plt"
   ]
  },
  {
   "cell_type": "code",
   "execution_count": 2,
   "id": "fecfb0a1",
   "metadata": {},
   "outputs": [],
   "source": [
    "from mpi4py import MPI"
   ]
  },
  {
   "cell_type": "code",
   "execution_count": 3,
   "id": "b76508c5",
   "metadata": {},
   "outputs": [
    {
     "name": "stdout",
     "output_type": "stream",
     "text": [
      "DOLFINx version: 0.7.3 based on GIT commit: ubuntu of https://github.com/FEniCS/dolfinx/\n"
     ]
    }
   ],
   "source": [
    "import dolfinx\n",
    "print(f\"DOLFINx version: {dolfinx.__version__} based on GIT commit: {dolfinx.git_commit_hash} of https://github.com/FEniCS/dolfinx/\")"
   ]
  },
  {
   "cell_type": "code",
   "execution_count": 4,
   "id": "f357f433",
   "metadata": {},
   "outputs": [],
   "source": [
    "from dolfinx import mesh\n",
    "from ufl import TrialFunction, TestFunction, grad, dx, dot\n",
    "from slepc4py import SLEPc\n",
    "from petsc4py.PETSc import ScalarType\n",
    "from dolfinx.fem import (Constant, dirichletbc, Function, FunctionSpace, locate_dofs_geometrical,\n",
    "                         locate_dofs_topological) \n",
    "from dolfinx.mesh import CellType,DiagonalType, create_rectangle, create_unit_square, locate_entities_boundary\n",
    "from ufl import (FacetNormal, FiniteElement, Identity, Measure, TestFunction, TrialFunction, VectorElement,\n",
    "                 as_vector, div, dot, ds, dx, inner)\n"
   ]
  },
  {
   "cell_type": "code",
   "execution_count": 5,
   "id": "2dda918b",
   "metadata": {},
   "outputs": [],
   "source": [
    "#maillage uniforme diagonal\n",
    "#domain = mesh.create_rectangle(MPI.COMM_WORLD,[np.array([0.0, 0.0]), np.array([np.pi, np.pi])], [40, 40], cell_type=CellType.triangle,\n",
    "#                               diagonal=DiagonalType.right) \n",
    "#maillage uniforme crisscross\n",
    "domain = mesh.create_rectangle(MPI.COMM_WORLD,[np.array([0.0, 0.0]), np.array([np.pi, np.pi])], [40, 40], cell_type=CellType.triangle,\n",
    "                               diagonal=DiagonalType.crossed)                "
   ]
  },
  {
   "cell_type": "code",
   "execution_count": 6,
   "id": "b29d7cce",
   "metadata": {},
   "outputs": [
    {
     "data": {
      "text/plain": [
       "triangle"
      ]
     },
     "execution_count": 6,
     "metadata": {},
     "output_type": "execute_result"
    }
   ],
   "source": [
    "domain.ufl_cell()"
   ]
  },
  {
   "cell_type": "code",
   "execution_count": 7,
   "id": "f1d2b02c",
   "metadata": {},
   "outputs": [],
   "source": [
    "tdim = domain.topology.dim\n",
    "fdim = tdim - 1\n",
    "domain.topology.create_connectivity(fdim, tdim)\n",
    "facets = mesh.exterior_facet_indices(domain.topology)\n"
   ]
  },
  {
   "cell_type": "code",
   "execution_count": 8,
   "id": "948b833a",
   "metadata": {},
   "outputs": [],
   "source": [
    "element = VectorElement(\"CG\", domain.ufl_cell(), 1, tdim)\n",
    "V = FunctionSpace(domain, element)\n",
    "\n",
    "import ufl\n",
    "u = ufl.TrialFunction(V)\n",
    "v = ufl.TestFunction(V)\n",
    "#u = TrialFunction(V)\n",
    "#v = TestFunction(V)"
   ]
  },
  {
   "cell_type": "code",
   "execution_count": 9,
   "id": "7bc45461",
   "metadata": {},
   "outputs": [],
   "source": [
    "def Rot(v):\n",
    "    return v[1].dx(0) - v[0].dx(1)"
   ]
  },
  {
   "cell_type": "code",
   "execution_count": 10,
   "id": "6df123ac",
   "metadata": {},
   "outputs": [],
   "source": [
    "a= ufl.dot(ufl.curl(u), ufl.curl(v))*ufl.dx\n",
    "#a= Rot(u)*Rot(v)*ufl.dx\n",
    "b = ufl.dot(u,v)*ufl.dx\n",
    "from dolfinx import fem\n",
    "bilinear_form = fem.form(a)\n",
    "mass_matrix = fem.form(b)\n",
    "#a = dot(grad(u), grad(v))*dx\n",
    "# form = Form(a)"
   ]
  },
  {
   "cell_type": "code",
   "execution_count": 11,
   "id": "7322409f",
   "metadata": {},
   "outputs": [],
   "source": [
    "def hori(x):\n",
    "    return np.logical_or( np.isclose(x[1], 0), np.isclose(x[1],np.pi))\n",
    "def vert(x):\n",
    "    return np.logical_or( np.isclose(x[0], 0), np.isclose(x[0],np.pi))\n",
    "\n",
    "hori_facets = locate_entities_boundary(domain, fdim, hori)\n",
    "vert_facets = locate_entities_boundary(domain, fdim, vert)\n",
    "boundary_dofs_x = locate_dofs_topological(V.sub(0), fdim, hori_facets)\n",
    "boundary_dofs_y = locate_dofs_topological(V.sub(1), fdim, vert_facets)\n",
    "bcx = dirichletbc(ScalarType(0), boundary_dofs_x, V.sub(0))                     \n",
    "bcy = dirichletbc(ScalarType(0), boundary_dofs_y, V.sub(1)) \n",
    "# uxn =0 composante tangentielle nulle\n",
    "bct = [bcx, bcy]\n",
    "\n"
   ]
  },
  {
   "cell_type": "code",
   "execution_count": 12,
   "id": "931c6702",
   "metadata": {},
   "outputs": [],
   "source": [
    "import dolfinx.fem.petsc\n",
    "# Assemble stiffness tensor and mass matrix\n",
    "A = fem.petsc.assemble_matrix(bilinear_form, bct)\n",
    "# attention à ne pas mettre de conditions limites dans\n",
    "#la matrice de masse sinon on a 1 valeur propre parasite \n",
    "# une autre façon plus propre est de\n",
    "#  mettre la diagonale à 0 sur les noeuds du bord\n",
    "B = fem.petsc.assemble_matrix(mass_matrix, bct, diagonal=0.0)\n",
    "#B = fem.petsc.assemble_matrix(mass_matrix)\n",
    "A.assemble()\n",
    "B.assemble()\n"
   ]
  },
  {
   "cell_type": "code",
   "execution_count": 13,
   "id": "39a5d8a3",
   "metadata": {},
   "outputs": [],
   "source": [
    "eigensolver = SLEPc.EPS().create(MPI.COMM_WORLD)\n",
    "#eigensolver = SLEPc.EPS().create(domain.comm)\n"
   ]
  },
  {
   "cell_type": "code",
   "execution_count": 14,
   "id": "2609bfe2",
   "metadata": {},
   "outputs": [],
   "source": [
    "eigensolver.setOperators(A,B)\n",
    "#GHEP means generalized hermitian problem\n",
    "eigensolver.setProblemType(SLEPc.EPS.ProblemType.GHEP)\n",
    "#eigensolver.setType(SLEPc.EPS.Type.LAPACK)\n",
    "eigensolver.setType(SLEPc.EPS.Type.KRYLOVSCHUR)\n",
    "#nombre de valeurs propres\n",
    "nev=25\n",
    "eigensolver.setDimensions(nev)\n",
    "#les plus petites valeurs propres en module\n",
    "#eigensolver.setWhichEigenpairs(2)\n",
    "#les plus grandes valeurs propres en module\n",
    "#eigensolver.setWhichEigenpairs(1)\n",
    "eigensolver.setWhichEigenpairs(eigensolver.Which.TARGET_MAGNITUDE)\n",
    "shift = 5.5\n",
    "# eigenvalue close to 5.5\n",
    "eigensolver.setTarget( shift ) \n",
    "#spectral shift\n",
    "st = eigensolver.getST()\n",
    "st.setType(SLEPc.ST.Type.SINVERT)\n",
    "st.setShift(shift)"
   ]
  },
  {
   "cell_type": "code",
   "execution_count": 15,
   "id": "a9015879",
   "metadata": {},
   "outputs": [],
   "source": [
    "eigensolver.solve()"
   ]
  },
  {
   "cell_type": "code",
   "execution_count": 16,
   "id": "0606ae4a",
   "metadata": {},
   "outputs": [
    {
     "name": "stdout",
     "output_type": "stream",
     "text": [
      "Number of converged eigenpairs 33\n"
     ]
    }
   ],
   "source": [
    "evs = eigensolver.getConverged()\n",
    "print( \"Number of converged eigenpairs %d\" % evs )\n"
   ]
  },
  {
   "cell_type": "code",
   "execution_count": 17,
   "id": "c244fd88",
   "metadata": {},
   "outputs": [
    {
     "data": {
      "text/plain": [
       "array([ 0.  ,  0.  ,  0.  , -0.  , -0.  ,  0.  ,  1.  ,  1.  ,  2.  ,\n",
       "        4.  ,  4.  ,  5.  ,  5.  ,  6.  ,  8.01,  9.01,  9.01, 10.02,\n",
       "       10.02, 13.03, 13.03, 14.95, 14.95, 16.04, 16.04])"
      ]
     },
     "execution_count": 17,
     "metadata": {},
     "output_type": "execute_result"
    }
   ],
   "source": [
    "n_conv = eigensolver.getConverged()\n",
    "computed_eigenvalues = []\n",
    "for i in range(min(n_conv, nev)):\n",
    "    lmbda = eigensolver.getEigenvalue(i)\n",
    "    computed_eigenvalues.append(np.round(np.real(lmbda), 2))\n",
    "np.sort(computed_eigenvalues)"
   ]
  },
  {
   "cell_type": "markdown",
   "id": "7992cc6c",
   "metadata": {},
   "source": [
    "### On retrouve  exactement les résultats de Arnold p9 \n",
    "en particulier la valeur propre 6 est fausse ainsi que la valeur propre double 15"
   ]
  },
  {
   "cell_type": "code",
   "execution_count": 18,
   "id": "9926594e",
   "metadata": {},
   "outputs": [
    {
     "name": "stdout",
     "output_type": "stream",
     "text": [
      "trame\n"
     ]
    }
   ],
   "source": [
    "import pyvista\n",
    "print(pyvista.global_theme.jupyter_backend)\n"
   ]
  },
  {
   "cell_type": "code",
   "execution_count": 19,
   "id": "5e3780af",
   "metadata": {},
   "outputs": [],
   "source": [
    "#pyvista.set_jupyter_backend('trame')\n",
    "from dolfinx import plot\n",
    "tdim = domain.topology.dim\n",
    "pyvista.start_xvfb()\n",
    "topology, cell_types, geometry = plot.vtk_mesh(domain, tdim)\n",
    "grid = pyvista.UnstructuredGrid(topology, cell_types, geometry)\n"
   ]
  },
  {
   "cell_type": "code",
   "execution_count": 20,
   "id": "b8c447bc",
   "metadata": {},
   "outputs": [
    {
     "name": "stderr",
     "output_type": "stream",
     "text": [
      "Widget Javascript not detected.  It may not be installed or enabled properly. Reconnecting the current kernel may help.\n"
     ]
    },
    {
     "data": {
      "application/vnd.jupyter.widget-view+json": {
       "model_id": "7d43ffcb3db44c12bb02ab84b4b907c5"
      }
     },
     "metadata": {},
     "output_type": "display_data"
    }
   ],
   "source": [
    "plotter = pyvista.Plotter()\n",
    "plotter.add_mesh(grid, show_edges=True)\n",
    "plotter.view_xy()\n",
    "if not pyvista.OFF_SCREEN:\n",
    "    plotter.show()\n",
    "else:\n",
    "    figure = plotter.screenshot(\"fundamentals_mesh.png\")\n"
   ]
  },
  {
   "cell_type": "markdown",
   "id": "43a95f47",
   "metadata": {},
   "source": [
    "### les valeurs propres exactes\n",
    "$\\nabla \\times \\nabla  u = \\lambda u$ sur $(0,\\pi) \\times (0,\\pi)$ avec condition limite magnétique $u \\times n =0$\n",
    "sont données par $u(x,y) =  \\mathrm{curl}\\sin(k x) \\sin(l y)$ \n",
    "et \n",
    "$\\lambda = (k^2 + l^2)$ pour $k,l \\geq 0$ excepté $k=l=0$"
   ]
  },
  {
   "cell_type": "code",
   "execution_count": 21,
   "id": "e7bf82a4",
   "metadata": {},
   "outputs": [
    {
     "name": "stdout",
     "output_type": "stream",
     "text": [
      "[1, 1, 2, 4, 4, 5, 5, 8, 9, 9, 10, 10, 13, 13, 16, 16, 17, 17, 18, 20, 20, 25, 25, 32]\n"
     ]
    }
   ],
   "source": [
    "list = []\n",
    "for k in range(0,5):\n",
    "    for l in range(0,5):\n",
    "        lamb = (k**2 + l**2)\n",
    "        list.append(lamb)\n",
    "list.sort()\n",
    "print(list[1:])"
   ]
  },
  {
   "cell_type": "code",
   "execution_count": null,
   "id": "fad79d4b",
   "metadata": {},
   "outputs": [],
   "source": []
  },
  {
   "cell_type": "code",
   "execution_count": null,
   "id": "26b0d487",
   "metadata": {},
   "outputs": [],
   "source": []
  }
 ],
 "metadata": {
  "kernelspec": {
   "display_name": "Python 3 (ipykernel)",
   "language": "python",
   "name": "python3"
  },
  "language_info": {
   "codemirror_mode": {
    "name": "ipython",
    "version": 3
   },
   "file_extension": ".py",
   "mimetype": "text/x-python",
   "name": "python",
   "nbconvert_exporter": "python",
   "pygments_lexer": "ipython3",
   "version": "3.10.12"
  }
 },
 "nbformat": 4,
 "nbformat_minor": 5
}
