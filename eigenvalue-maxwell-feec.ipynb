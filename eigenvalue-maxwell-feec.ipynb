{
 "cells": [
  {
   "cell_type": "markdown",
   "id": "43308c2f",
   "metadata": {},
   "source": [
    "# Calcul de valeurs propres de Maxwell dans un carré\n",
    "$\\mathrm{curl\\, curl}\\, u = \\lambda u$ dans le carré $(0,\\pi) \\times\\ (0,\\pi)$\n",
    "avec condition limite magnétique homogène $u\\times n =0$\n",
    "Cf Arnold FEEC chap 1\n"
   ]
  },
  {
   "cell_type": "code",
   "execution_count": 1,
   "id": "df818933",
   "metadata": {},
   "outputs": [],
   "source": [
    "import numpy as np\n",
    "import matplotlib.pyplot as plt"
   ]
  },
  {
   "cell_type": "code",
   "execution_count": 2,
   "id": "fecfb0a1",
   "metadata": {},
   "outputs": [],
   "source": [
    "from mpi4py import MPI"
   ]
  },
  {
   "cell_type": "code",
   "execution_count": 3,
   "id": "b76508c5",
   "metadata": {},
   "outputs": [
    {
     "name": "stdout",
     "output_type": "stream",
     "text": [
      "DOLFINx version: 0.7.3 based on GIT commit: ubuntu of https://github.com/FEniCS/dolfinx/\n"
     ]
    }
   ],
   "source": [
    "import dolfinx\n",
    "print(f\"DOLFINx version: {dolfinx.__version__} based on GIT commit: {dolfinx.git_commit_hash} of https://github.com/FEniCS/dolfinx/\")"
   ]
  },
  {
   "cell_type": "code",
   "execution_count": 4,
   "id": "f357f433",
   "metadata": {},
   "outputs": [],
   "source": [
    "from dolfinx import mesh\n",
    "from ufl import TrialFunction, TestFunction, grad, dx, dot\n",
    "from slepc4py import SLEPc\n",
    "from petsc4py import PETSc\n",
    "from petsc4py.PETSc import ScalarType\n",
    "from dolfinx.fem import (Constant, dirichletbc, Function, FunctionSpace, locate_dofs_geometrical,\n",
    "                         locate_dofs_topological) \n",
    "from dolfinx.mesh import CellType,DiagonalType, create_rectangle, create_unit_square, locate_entities_boundary\n",
    "from ufl import (FacetNormal, FiniteElement, Identity, Measure, TestFunction, TrialFunction, VectorElement,\n",
    "                 as_vector, div, dot, ds, dx, inner)\n"
   ]
  },
  {
   "cell_type": "code",
   "execution_count": 5,
   "id": "2dda918b",
   "metadata": {},
   "outputs": [],
   "source": [
    "#maillage uniforme diagonal\n",
    "domain = mesh.create_rectangle(MPI.COMM_WORLD,[np.array([0.0, 0.0]), np.array([np.pi, np.pi])], [40, 40], cell_type=CellType.triangle,\n",
    "                               diagonal=DiagonalType.right) \n",
    "#maillage uniforme crisscross\n",
    "#domain = mesh.create_rectangle(MPI.COMM_WORLD,[np.array([0.0, 0.0]), np.array([np.pi, np.pi])], [40, 40], cell_type=CellType.triangle,\n",
    "#                               diagonal=DiagonalType.crossed)                "
   ]
  },
  {
   "cell_type": "code",
   "execution_count": 6,
   "id": "b29d7cce",
   "metadata": {},
   "outputs": [
    {
     "data": {
      "text/plain": [
       "triangle"
      ]
     },
     "execution_count": 6,
     "metadata": {},
     "output_type": "execute_result"
    }
   ],
   "source": [
    "domain.ufl_cell()"
   ]
  },
  {
   "cell_type": "code",
   "execution_count": 7,
   "id": "f1d2b02c",
   "metadata": {},
   "outputs": [],
   "source": [
    "tdim = domain.topology.dim\n",
    "fdim = tdim - 1\n",
    "domain.topology.create_connectivity(fdim, tdim)\n",
    "#facets = mesh.exterior_facet_indices(domain.topology)\n"
   ]
  },
  {
   "cell_type": "code",
   "execution_count": 8,
   "id": "948b833a",
   "metadata": {},
   "outputs": [],
   "source": [
    "import ufl\n",
    "#element = create_element(basix.ElementFamily.N1E, basix.CellType.triangle, 1)\n",
    "#element = ufl.FiniteElement(\"Nedelec 1st kind H(curl)\", domain.ufl_cell(), 1)\n",
    "element = FiniteElement(\"N1curl\", domain.ufl_cell(), 1)\n",
    "#element = VectorElement(\"CG\", domain.ufl_cell(), 1, tdim)\n",
    "V = FunctionSpace(domain, element)\n",
    "\n",
    "u = ufl.TrialFunction(V)\n",
    "v = ufl.TestFunction(V)\n",
    "#u = TrialFunction(V)\n",
    "#v = TestFunction(V)"
   ]
  },
  {
   "cell_type": "code",
   "execution_count": 9,
   "id": "7bc45461",
   "metadata": {},
   "outputs": [],
   "source": [
    "def Rot(v):\n",
    "    return v[1].dx(0) - v[0].dx(1)"
   ]
  },
  {
   "cell_type": "code",
   "execution_count": 10,
   "id": "6df123ac",
   "metadata": {},
   "outputs": [],
   "source": [
    "a= ufl.dot(ufl.curl(u), ufl.curl(v))*ufl.dx\n",
    "#a= Rot(u)*Rot(v)*ufl.dx\n",
    "b = ufl.dot(u,v)*ufl.dx\n",
    "from dolfinx import fem\n",
    "bilinear_form = fem.form(a)\n",
    "mass_matrix = fem.form(b)"
   ]
  },
  {
   "cell_type": "code",
   "execution_count": 11,
   "id": "6d8e0fb9",
   "metadata": {},
   "outputs": [
    {
     "name": "stdout",
     "output_type": "stream",
     "text": [
      "Trial function shape (2,)\n"
     ]
    }
   ],
   "source": [
    "print(f\"Trial function shape {u.ufl_shape}\")\n",
    "zero = fem.Function(V)\n",
    "boundary_facets = mesh.exterior_facet_indices(domain.topology)\n",
    "boundary_dofs = fem.locate_dofs_topological(V, fdim, boundary_facets)\n",
    "bc = dirichletbc(zero, boundary_dofs)"
   ]
  },
  {
   "cell_type": "code",
   "execution_count": 12,
   "id": "7322409f",
   "metadata": {},
   "outputs": [],
   "source": [
    "#cellule inutile car Nedelec prescrit automatiquement\n",
    "#la composante tangentielle\n",
    "def hori(x):\n",
    "    return np.logical_or( np.isclose(x[1], 0), np.isclose(x[1],np.pi))\n",
    "def vert(x):\n",
    "    return np.logical_or( np.isclose(x[0], 0), np.isclose(x[0],np.pi))\n",
    "\n",
    "hori_facets = locate_entities_boundary(domain, fdim, hori)\n",
    "vert_facets = locate_entities_boundary(domain, fdim, vert)\n",
    "boundary_dofs_x = locate_dofs_topological(V, fdim, hori_facets)\n",
    "boundary_dofs_y = locate_dofs_topological(V, fdim, vert_facets)\n",
    "bcx = dirichletbc(zero, boundary_dofs_x)                     \n",
    "bcy = dirichletbc(zero, boundary_dofs_y) \n",
    "# uxn =0 composante tangentielle nulle\n",
    "bct = [bcx, bcy]\n",
    "#en fait c'est inutile car l'élément de Nedelec prescrit\n",
    "#automatiquement la composante tangentielle\n"
   ]
  },
  {
   "cell_type": "code",
   "execution_count": 13,
   "id": "931c6702",
   "metadata": {},
   "outputs": [],
   "source": [
    "import dolfinx.fem.petsc\n",
    "# Assemble stiffness tensor and mass matrix\n",
    "A = fem.petsc.assemble_matrix(bilinear_form, bcs=[bc])\n",
    "#A = fem.petsc.assemble_matrix(bilinear_form, bcs=bct)\n",
    "# pour éviter des modes propres parasites pour vp 1\n",
    "# on met 0 sur les noeuds correspondant aux conditions limites\n",
    "# cela vient de la façon dont son codées les conditions limites\n",
    "B = fem.petsc.assemble_matrix(mass_matrix,bcs=[bc],diagonal=0.0)\n",
    "#B = fem.petsc.assemble_matrix(mass_matrix,bcs=bct,diagonal=0.0)\n",
    "A.assemble()\n",
    "B.assemble()\n"
   ]
  },
  {
   "cell_type": "code",
   "execution_count": 14,
   "id": "ee5b6d4f",
   "metadata": {},
   "outputs": [
    {
     "name": "stdout",
     "output_type": "stream",
     "text": [
      "Number of iterations: 2\n",
      "Solution method: krylovschur\n",
      "Number of requested eigenvalues: 12\n",
      "Stopping condition: tol=1e-08, maxit=361\n",
      "Number of converged eigenpairs: 16\n"
     ]
    },
    {
     "data": {
      "text/plain": [
       "array([ 1.,  1.,  2.,  4.,  4.,  5.,  5.,  8.,  9.,  9., 10., 10.])"
      ]
     },
     "execution_count": 14,
     "metadata": {},
     "output_type": "execute_result"
    }
   ],
   "source": [
    "# Create SLEPc Eigenvalue solver\n",
    "eps = SLEPc.EPS().create(PETSc.COMM_WORLD)\n",
    "eps.setOperators(A, B)\n",
    "eps.setType(SLEPc.EPS.Type.KRYLOVSCHUR)\n",
    "eps.setProblemType(SLEPc.EPS.ProblemType.GHEP)\n",
    "eps.setWhichEigenpairs(eps.Which.TARGET_MAGNITUDE)\n",
    "#shift \n",
    "shift =5.5\n",
    "eps.setTarget(shift)\n",
    "\n",
    "st = eps.getST()\n",
    "st.setType(SLEPc.ST.Type.SINVERT)\n",
    "st.setShift(shift)\n",
    "#number of eigenvalues\n",
    "n_eigs=12\n",
    "eps.setDimensions(n_eigs, PETSc.DECIDE, PETSc.DECIDE)\n",
    "eps.setFromOptions()\n",
    "eps.solve()\n",
    "\n",
    "its = eps.getIterationNumber()\n",
    "eps_type = eps.getType()\n",
    "n_ev, n_cv, mpd = eps.getDimensions()\n",
    "tol, max_it = eps.getTolerances()\n",
    "n_conv = eps.getConverged()\n",
    "\n",
    "print(f\"Number of iterations: {its}\")\n",
    "print(f\"Solution method: {eps_type}\")\n",
    "print(f\"Number of requested eigenvalues: {n_ev}\")\n",
    "print(f\"Stopping condition: tol={tol}, maxit={max_it}\")\n",
    "print(f\"Number of converged eigenpairs: {n_conv}\")\n",
    "\n",
    "computed_eigenvalues = []\n",
    "for i in range(min(n_conv, n_eigs)):\n",
    "    lmbda = eps.getEigenvalue(i)\n",
    "    computed_eigenvalues.append(np.round(np.real(lmbda), 1))\n",
    "np.sort(computed_eigenvalues)"
   ]
  },
  {
   "cell_type": "markdown",
   "id": "7992cc6c",
   "metadata": {},
   "source": [
    "### On retrouve  exactement les résultats de Arnold, Finite element exterior calculus, SIAM 2018, p9 "
   ]
  },
  {
   "cell_type": "markdown",
   "id": "78a5900f",
   "metadata": {},
   "source": [
    "### les valeurs propres exactes\n",
    "$\\nabla \\times \\nabla  u = \\lambda u$ sur $(0,\\pi) \\times (0,\\pi)$ avec condition limite magnétique $u \\times n =0$\n",
    "sont données par $u(x,y) =  \\mathrm{curl}(\\cos(k x) \\cos(l y))$ \n",
    "et \n",
    "$\\lambda = (k^2 + l^2)$ pour $k,l \\geq 0$ excepté $k=l=0$"
   ]
  },
  {
   "cell_type": "code",
   "execution_count": 15,
   "id": "be3c25f2",
   "metadata": {},
   "outputs": [
    {
     "name": "stdout",
     "output_type": "stream",
     "text": [
      "[1, 1, 2, 4, 4, 5, 5, 8, 9, 9, 10, 10, 13, 13, 16, 16, 17, 17, 18, 20, 20, 25, 25, 25, 25, 26, 26, 29, 29, 32, 34, 34, 36, 36, 37, 37, 40, 40, 41, 41, 45, 45, 50, 52, 52, 61, 61, 72]\n"
     ]
    }
   ],
   "source": [
    "list = []\n",
    "for k in range(0,7):\n",
    "    for l in range(0,7):\n",
    "        lamb = (k**2 + l**2)\n",
    "        list.append(lamb)\n",
    "list.sort()\n",
    "print(list[1:])"
   ]
  },
  {
   "cell_type": "code",
   "execution_count": 16,
   "id": "9926594e",
   "metadata": {},
   "outputs": [
    {
     "name": "stdout",
     "output_type": "stream",
     "text": [
      "trame\n"
     ]
    }
   ],
   "source": [
    "import pyvista\n",
    "print(pyvista.global_theme.jupyter_backend)\n"
   ]
  },
  {
   "cell_type": "code",
   "execution_count": 17,
   "id": "5e3780af",
   "metadata": {},
   "outputs": [],
   "source": [
    "#pyvista.set_jupyter_backend('trame')\n",
    "from dolfinx import plot\n",
    "tdim = domain.topology.dim\n",
    "pyvista.start_xvfb()\n",
    "topology, cell_types, geometry = plot.vtk_mesh(domain, tdim)\n",
    "grid = pyvista.UnstructuredGrid(topology, cell_types, geometry)\n"
   ]
  },
  {
   "cell_type": "code",
   "execution_count": 18,
   "id": "b8c447bc",
   "metadata": {},
   "outputs": [
    {
     "name": "stderr",
     "output_type": "stream",
     "text": [
      "Widget Javascript not detected.  It may not be installed or enabled properly. Reconnecting the current kernel may help.\n"
     ]
    },
    {
     "data": {
      "application/vnd.jupyter.widget-view+json": {
       "model_id": "d17544d61726488cabec7b2072234079"
      }
     },
     "metadata": {},
     "output_type": "display_data"
    }
   ],
   "source": [
    "plotter = pyvista.Plotter()\n",
    "plotter.add_mesh(grid, show_edges=True)\n",
    "plotter.view_xy()\n",
    "if not pyvista.OFF_SCREEN:\n",
    "    plotter.show()\n",
    "else:\n",
    "    figure = plotter.screenshot(\"fundamentals_mesh.png\")\n"
   ]
  },
  {
   "cell_type": "code",
   "execution_count": null,
   "id": "e911364a",
   "metadata": {},
   "outputs": [],
   "source": []
  }
 ],
 "metadata": {
  "kernelspec": {
   "display_name": "Python 3 (ipykernel)",
   "language": "python",
   "name": "python3"
  },
  "language_info": {
   "codemirror_mode": {
    "name": "ipython",
    "version": 3
   },
   "file_extension": ".py",
   "mimetype": "text/x-python",
   "name": "python",
   "nbconvert_exporter": "python",
   "pygments_lexer": "ipython3",
   "version": "3.10.12"
  }
 },
 "nbformat": 4,
 "nbformat_minor": 5
}
